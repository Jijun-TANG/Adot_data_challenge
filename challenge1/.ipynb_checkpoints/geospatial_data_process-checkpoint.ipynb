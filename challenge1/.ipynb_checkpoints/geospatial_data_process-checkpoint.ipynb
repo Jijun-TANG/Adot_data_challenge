{
 "cells": [
  {
   "cell_type": "markdown",
   "id": "338aed1a",
   "metadata": {},
   "source": [
    "### Challenge 1. Traitement de données geospatial en Python"
   ]
  },
  {
   "cell_type": "code",
   "execution_count": 1,
   "id": "54db7262",
   "metadata": {},
   "outputs": [],
   "source": [
    "import json\n",
    "import psycopg2\n",
    "from typing import Dict, List\n",
    "from collections import defaultdict\n",
    "import pandas as pd\n",
    "import numpy as np"
   ]
  },
  {
   "cell_type": "code",
   "execution_count": 2,
   "id": "0f091e48",
   "metadata": {},
   "outputs": [],
   "source": [
    "# Opening JSON file \n",
    "#ref1: https://www.geeksforgeeks.org/read-json-file-using-python/\n",
    "f = open('cadastre-75-parcelles.json')\n",
    "# returns JSON object as \n",
    "# a dictionary\n",
    "data = json.load(f)\n",
    "# Iterating through the json\n",
    "# list"
   ]
  },
  {
   "cell_type": "markdown",
   "id": "b842c80e",
   "metadata": {},
   "source": [
    "### Determine the general length of id & commune to define their varchar length in Postgres SQL Database"
   ]
  },
  {
   "cell_type": "code",
   "execution_count": 3,
   "id": "078909cb",
   "metadata": {},
   "outputs": [],
   "source": [
    "def exhausted_traversal(data:Dict, id_max_len, commune_max_len):\n",
    "    for k,v in data.items():\n",
    "        #print(k)\n",
    "        if k=='id':\n",
    "            id_max_len = max(id_max_len, len(v))\n",
    "        elif k=='commune':\n",
    "            commune_max_len = max(commune_max_len, len(v))\n",
    "        elif type(v)==dict:\n",
    "            t1, t2 = exhausted_traversal(v, id_max_len, commune_max_len)\n",
    "            id_max_len = max(id_max_len, t1)\n",
    "            commune_max_len = max(commune_max_len, t2)\n",
    "        elif type(v)==list and type(v[0])==dict:\n",
    "            t1, t2 = exhausted_traversal(v[0], id_max_len, commune_max_len)\n",
    "            id_max_len = max(id_max_len, t1)\n",
    "            commune_max_len = max(commune_max_len, t2)\n",
    "    return id_max_len, commune_max_len"
   ]
  },
  {
   "cell_type": "code",
   "execution_count": 4,
   "id": "57650b56",
   "metadata": {},
   "outputs": [],
   "source": [
    "id_max_len, commune_max_len = 0, 0"
   ]
  },
  {
   "cell_type": "code",
   "execution_count": 5,
   "id": "9669fff8",
   "metadata": {},
   "outputs": [
    {
     "data": {
      "text/plain": [
       "(14, 5)"
      ]
     },
     "execution_count": 5,
     "metadata": {},
     "output_type": "execute_result"
    }
   ],
   "source": [
    "exhausted_traversal(data, id_max_len, commune_max_len)"
   ]
  },
  {
   "cell_type": "markdown",
   "id": "4fce1c02",
   "metadata": {},
   "source": [
    "### Conclusion: So the max length of ID is 14 and max length of commune is 5"
   ]
  },
  {
   "cell_type": "markdown",
   "id": "2c3b26b1",
   "metadata": {},
   "source": [
    "#### Check the general format of data dictionary"
   ]
  },
  {
   "cell_type": "code",
   "execution_count": 6,
   "id": "726f65e3",
   "metadata": {},
   "outputs": [
    {
     "data": {
      "text/plain": [
       "2"
      ]
     },
     "execution_count": 6,
     "metadata": {},
     "output_type": "execute_result"
    }
   ],
   "source": [
    "len(data)"
   ]
  },
  {
   "cell_type": "code",
   "execution_count": 7,
   "id": "b0245c36",
   "metadata": {},
   "outputs": [
    {
     "data": {
      "text/plain": [
       "1000"
      ]
     },
     "execution_count": 7,
     "metadata": {},
     "output_type": "execute_result"
    }
   ],
   "source": [
    "len(data['features'])"
   ]
  },
  {
   "cell_type": "code",
   "execution_count": 8,
   "id": "1475ae1d",
   "metadata": {},
   "outputs": [
    {
     "data": {
      "text/plain": [
       "{'type': 'Feature',\n",
       " 'id': '75101000AB0002',\n",
       " 'geometry': {'type': 'Polygon',\n",
       "  'coordinates': [[[2.3216448, 48.863771],\n",
       "    [2.3251135, 48.8626367],\n",
       "    [2.3252539, 48.8625907],\n",
       "    [2.3261845, 48.8638563],\n",
       "    [2.3261907, 48.8638647],\n",
       "    [2.3245298, 48.8643932],\n",
       "    [2.3237375, 48.8646452],\n",
       "    [2.3224587, 48.8650521],\n",
       "    [2.322371, 48.8649396],\n",
       "    [2.322386, 48.8649347],\n",
       "    [2.3223729, 48.8649184],\n",
       "    [2.3223636, 48.8649058],\n",
       "    [2.3223547, 48.8649088],\n",
       "    [2.3216103, 48.8639468],\n",
       "    [2.321618, 48.8639443],\n",
       "    [2.3215962, 48.8639111],\n",
       "    [2.3216017, 48.8639093],\n",
       "    [2.3216065, 48.8638956],\n",
       "    [2.3216437, 48.8637902],\n",
       "    [2.3216485, 48.8637765],\n",
       "    [2.3216448, 48.863771]],\n",
       "   [[2.3232315, 48.8635035],\n",
       "    [2.3231863, 48.8635183],\n",
       "    [2.3231881, 48.8635207],\n",
       "    [2.3230723, 48.8635588],\n",
       "    [2.3230704, 48.8635564],\n",
       "    [2.3230578, 48.8635604],\n",
       "    [2.3230594, 48.8635627],\n",
       "    [2.322944, 48.8636008],\n",
       "    [2.3229421, 48.8635982],\n",
       "    [2.3229292, 48.8636025],\n",
       "    [2.322931, 48.8636047],\n",
       "    [2.3228154, 48.8636427],\n",
       "    [2.3228134, 48.8636404],\n",
       "    [2.3228008, 48.8636445],\n",
       "    [2.3228027, 48.863647],\n",
       "    [2.3226914, 48.8636835],\n",
       "    [2.3226869, 48.8636849],\n",
       "    [2.3226852, 48.8636824],\n",
       "    [2.3226726, 48.8636865],\n",
       "    [2.3226744, 48.8636889],\n",
       "    [2.3225579, 48.8637271],\n",
       "    [2.3225561, 48.8637246],\n",
       "    [2.3225436, 48.8637288],\n",
       "    [2.3225454, 48.8637312],\n",
       "    [2.3225408, 48.8637326],\n",
       "    [2.3224297, 48.863769],\n",
       "    [2.3224278, 48.8637668],\n",
       "    [2.3224149, 48.8637708],\n",
       "    [2.3224169, 48.8637733],\n",
       "    [2.3223014, 48.8638112],\n",
       "    [2.3222995, 48.8638088],\n",
       "    [2.3222867, 48.863813],\n",
       "    [2.3222885, 48.8638151],\n",
       "    [2.3221726, 48.8638531],\n",
       "    [2.3221708, 48.8638507],\n",
       "    [2.3221583, 48.863855],\n",
       "    [2.32216, 48.8638575],\n",
       "    [2.3220442, 48.8638954],\n",
       "    [2.3220423, 48.8638929],\n",
       "    [2.3219969, 48.8639078],\n",
       "    [2.3220142, 48.8639287],\n",
       "    [2.321998, 48.8639341],\n",
       "    [2.3220121, 48.8639529],\n",
       "    [2.3220143, 48.8639522],\n",
       "    [2.3220286, 48.8639476],\n",
       "    [2.3220579, 48.8639863],\n",
       "    [2.3220436, 48.8639911],\n",
       "    [2.3220413, 48.8639918],\n",
       "    [2.3220556, 48.8640105],\n",
       "    [2.3220719, 48.864005],\n",
       "    [2.322087, 48.8640275],\n",
       "    [2.3221204, 48.8640165],\n",
       "    [2.3221333, 48.8640338],\n",
       "    [2.322336, 48.8639676],\n",
       "    [2.3223438, 48.8639777],\n",
       "    [2.3223987, 48.8639597],\n",
       "    [2.3223909, 48.8639496],\n",
       "    [2.3226234, 48.8638734],\n",
       "    [2.322631, 48.8638836],\n",
       "    [2.3226606, 48.863874],\n",
       "    [2.3226528, 48.8638637],\n",
       "    [2.3226679, 48.8638589],\n",
       "    [2.3226712, 48.8638633],\n",
       "    [2.3226728, 48.8638648],\n",
       "    [2.3226778, 48.863869],\n",
       "    [2.3226815, 48.8638715],\n",
       "    [2.3226859, 48.863874],\n",
       "    [2.3226957, 48.8638778],\n",
       "    [2.3226995, 48.8638792],\n",
       "    [2.3227058, 48.863881],\n",
       "    [2.3227124, 48.863882],\n",
       "    [2.3227194, 48.8638825],\n",
       "    [2.3227269, 48.8638822],\n",
       "    [2.3227336, 48.8638813],\n",
       "    [2.3227405, 48.8638797],\n",
       "    [2.322747, 48.8638777],\n",
       "    [2.3227515, 48.8638758],\n",
       "    [2.3227567, 48.863873],\n",
       "    [2.3227617, 48.8638695],\n",
       "    [2.3227661, 48.8638656],\n",
       "    [2.3227691, 48.8638613],\n",
       "    [2.3227712, 48.8638578],\n",
       "    [2.3227736, 48.863852],\n",
       "    [2.3227747, 48.8638486],\n",
       "    [2.322775, 48.8638459],\n",
       "    [2.3227747, 48.8638407],\n",
       "    [2.3227744, 48.8638396],\n",
       "    [2.3227733, 48.8638355],\n",
       "    [2.3227707, 48.8638306],\n",
       "    [2.3227675, 48.8638263],\n",
       "    [2.3227825, 48.8638213],\n",
       "    [2.3227888, 48.8638295],\n",
       "    [2.3228112, 48.863822],\n",
       "    [2.3228053, 48.863814],\n",
       "    [2.3232985, 48.8636525],\n",
       "    [2.3232854, 48.8636351],\n",
       "    [2.3233217, 48.8636232],\n",
       "    [2.3233038, 48.863602],\n",
       "    [2.32332, 48.8635964],\n",
       "    [2.3233052, 48.8635777],\n",
       "    [2.3232888, 48.8635833],\n",
       "    [2.3232588, 48.8635448],\n",
       "    [2.3232749, 48.8635392],\n",
       "    [2.3232603, 48.8635203],\n",
       "    [2.3232463, 48.8635258],\n",
       "    [2.3232315, 48.8635035]]]},\n",
       " 'properties': {'id': '75101000AB0002',\n",
       "  'commune': '75101',\n",
       "  'prefixe': '000',\n",
       "  'section': 'AB',\n",
       "  'numero': '2',\n",
       "  'contenance': 45688,\n",
       "  'arpente': False,\n",
       "  'created': '2006-10-06',\n",
       "  'updated': '2016-07-21'}}"
      ]
     },
     "execution_count": 8,
     "metadata": {},
     "output_type": "execute_result"
    }
   ],
   "source": [
    "data['features'][0]"
   ]
  },
  {
   "cell_type": "code",
   "execution_count": 50,
   "id": "d0d92df6",
   "metadata": {},
   "outputs": [],
   "source": [
    "try:\n",
    "    connection = psycopg2.connect(user=\"admin\",\n",
    "                                  password=1234,\n",
    "                                  host=\"127.0.0.1\",#or localhost\n",
    "                                  port=\"15432\",\n",
    "                                  database=\"postgis\")\n",
    "except (Exception, psycopg2.Error) as error:\n",
    "    print(\"Failed to establish connection to postgis database:\\n\\n\", error)"
   ]
  },
  {
   "cell_type": "code",
   "execution_count": 51,
   "id": "94f62e80",
   "metadata": {},
   "outputs": [],
   "source": [
    "cursor = connection.cursor()"
   ]
  },
  {
   "cell_type": "markdown",
   "id": "a0cc7cd6",
   "metadata": {},
   "source": [
    "### Create cadastre table for postgis data base:"
   ]
  },
  {
   "cell_type": "code",
   "execution_count": 52,
   "id": "8d5c0ed0",
   "metadata": {},
   "outputs": [],
   "source": [
    "postgres_create_query = \"CREATE TABLE cadastre (Id varchar(14) PRIMARY KEY, Commune VARCHAR(5), Geometry geometry);\"\n",
    "#\"CREATE TABLE test (id serial PRIMARY KEY, num integer, data varchar);\"\n",
    "cursor.execute(postgres_create_query)\n",
    "connection.commit()  # <--- makes sure the change is shown in the database"
   ]
  },
  {
   "cell_type": "markdown",
   "id": "41509532",
   "metadata": {},
   "source": [
    "### Try to insert one record into the database"
   ]
  },
  {
   "cell_type": "code",
   "execution_count": 53,
   "id": "e539edff",
   "metadata": {},
   "outputs": [],
   "source": [
    "postgres_insert_query = \"\"\" INSERT INTO cadastre (ID, Commune, Geometry) VALUES (%s,%s,%s)\"\"\""
   ]
  },
  {
   "cell_type": "code",
   "execution_count": 54,
   "id": "218b7382",
   "metadata": {},
   "outputs": [],
   "source": [
    "chains = str()\n",
    "i = 0\n",
    "if len(data['features'][i]['geometry']['coordinates']) == 2:\n",
    "    chains += '('\n",
    "    for coords in data['features'][i]['geometry']['coordinates'][0]:\n",
    "        chains += str(coords[0]) + ' ' + str(coords[1]) + ', '\n",
    "    chains = chains[:-2]\n",
    "    chains += '),'\n",
    "    chains += '('\n",
    "    for coords in data['features'][i]['geometry']['coordinates'][1]:\n",
    "        chains += str(coords[0]) + ' ' + str(coords[1]) + ', '\n",
    "    chains = chains[:-2]\n",
    "    chains += ')'\n",
    "elif len(data['features'][i]['geometry']['coordinates']) == 1:\n",
    "    chains += '('\n",
    "    for coords in data['features'][i]['geometry']['coordinates'][0]:\n",
    "        chains += str(coords[0]) + ' ' + str(coords[1]) + ', '\n",
    "    chains = chains[:-2]\n",
    "    chains += ')'"
   ]
  },
  {
   "cell_type": "code",
   "execution_count": 55,
   "id": "df2bb53c",
   "metadata": {},
   "outputs": [],
   "source": [
    "geometry = data['features'][0]['geometry'][\"type\"].upper()+'('+chains+')'"
   ]
  },
  {
   "cell_type": "code",
   "execution_count": 56,
   "id": "e8e0feac",
   "metadata": {},
   "outputs": [],
   "source": [
    "record_to_insert = (data['features'][0]['id'],data['features'][0]['properties']['commune'], geometry)"
   ]
  },
  {
   "cell_type": "code",
   "execution_count": 57,
   "id": "26a9eea7",
   "metadata": {},
   "outputs": [
    {
     "name": "stdout",
     "output_type": "stream",
     "text": [
      "1 Record inserted successfully into cadastre table\n"
     ]
    }
   ],
   "source": [
    "cursor.execute(postgres_insert_query, record_to_insert)\n",
    "\n",
    "connection.commit()\n",
    "count = cursor.rowcount\n",
    "print(count, \"Record inserted successfully into cadastre table\")"
   ]
  },
  {
   "cell_type": "markdown",
   "id": "d4ad9a84",
   "metadata": {},
   "source": [
    "#### Examine the shape of the coordinates array"
   ]
  },
  {
   "cell_type": "code",
   "execution_count": 58,
   "id": "c5a3dbba",
   "metadata": {},
   "outputs": [
    {
     "data": {
      "text/plain": [
       "2"
      ]
     },
     "execution_count": 58,
     "metadata": {},
     "output_type": "execute_result"
    }
   ],
   "source": [
    "len(data['features'][0]['geometry']['coordinates'])"
   ]
  },
  {
   "cell_type": "code",
   "execution_count": 59,
   "id": "2f507b63",
   "metadata": {},
   "outputs": [],
   "source": [
    "types = defaultdict(int)\n",
    "for i in range(len(data[\"features\"])):\n",
    "    types[(len(data['features'][i]['geometry']['coordinates']))]+=1"
   ]
  },
  {
   "cell_type": "code",
   "execution_count": 60,
   "id": "dcc61dcc",
   "metadata": {
    "scrolled": true
   },
   "outputs": [
    {
     "data": {
      "text/plain": [
       "defaultdict(int, {2: 4, 1: 996})"
      ]
     },
     "execution_count": 60,
     "metadata": {},
     "output_type": "execute_result"
    }
   ],
   "source": [
    "types"
   ]
  },
  {
   "cell_type": "markdown",
   "id": "f741b2bd",
   "metadata": {},
   "source": [
    "#### 4 polygons with holes, 996 without"
   ]
  },
  {
   "cell_type": "markdown",
   "id": "09469b79",
   "metadata": {},
   "source": [
    "### Automate the insertion process"
   ]
  },
  {
   "cell_type": "code",
   "execution_count": 61,
   "id": "5615d0ce",
   "metadata": {},
   "outputs": [],
   "source": [
    "for i in range(1,len(data[\"features\"])): ### Skip the 1st record inserted\n",
    "    chains = str()\n",
    "    for j in range(len(data['features'][i]['geometry']['coordinates'])):\n",
    "        chains += '('\n",
    "        for coords in data['features'][i]['geometry']['coordinates'][j]:\n",
    "            chains += str(coords[0]) + ' ' + str(coords[1]) + ', '\n",
    "        chains = chains[:-2]\n",
    "        chains += '),'\n",
    "    chains = chains[:-1]\n",
    "    geometry = data['features'][i]['geometry'][\"type\"].upper()+'('+chains+')'\n",
    "    record_to_insert = (data['features'][i]['id'],data['features'][i]['properties']['commune'], geometry)\n",
    "    cursor.execute(postgres_insert_query, record_to_insert)"
   ]
  },
  {
   "cell_type": "markdown",
   "id": "4ffcae43",
   "metadata": {},
   "source": [
    "### Verify that we have inserted all the data with envisaged records"
   ]
  },
  {
   "cell_type": "code",
   "execution_count": 62,
   "id": "402bb9e1",
   "metadata": {},
   "outputs": [],
   "source": [
    "sql_select_query = \"\"\"SELECT id FROM public.cadastre as ID_\"\"\"\n",
    "cursor.execute(sql_select_query)\n",
    "id_list = cursor.fetchall()"
   ]
  },
  {
   "cell_type": "markdown",
   "id": "19ecd0ad",
   "metadata": {},
   "source": [
    "#### check one id_list content"
   ]
  },
  {
   "cell_type": "code",
   "execution_count": 63,
   "id": "39ecf9b3",
   "metadata": {},
   "outputs": [
    {
     "data": {
      "text/plain": [
       "('75101000AB0002',)"
      ]
     },
     "execution_count": 63,
     "metadata": {},
     "output_type": "execute_result"
    }
   ],
   "source": [
    "id_list[0]"
   ]
  },
  {
   "cell_type": "code",
   "execution_count": 64,
   "id": "169be5fd",
   "metadata": {},
   "outputs": [],
   "source": [
    "id_list = list(map(lambda x:x[0],id_list))"
   ]
  },
  {
   "cell_type": "code",
   "execution_count": 65,
   "id": "f1e5ac0a",
   "metadata": {},
   "outputs": [
    {
     "name": "stdout",
     "output_type": "stream",
     "text": [
      "75101000AB0002\n"
     ]
    }
   ],
   "source": [
    "print(id_list[0])"
   ]
  },
  {
   "cell_type": "code",
   "execution_count": 66,
   "id": "da21c512",
   "metadata": {},
   "outputs": [],
   "source": [
    "ids_set1 = set()\n",
    "ids_set2 = set()\n",
    "for i in range(len(id_list)):\n",
    "    ids_set1.add(id_list[i])\n",
    "    ids_set2.add(data['features'][i]['id'])"
   ]
  },
  {
   "cell_type": "code",
   "execution_count": 67,
   "id": "8dbf3f77",
   "metadata": {},
   "outputs": [
    {
     "data": {
      "text/plain": [
       "set()"
      ]
     },
     "execution_count": 67,
     "metadata": {},
     "output_type": "execute_result"
    }
   ],
   "source": [
    "ids_set1.symmetric_difference(ids_set2)"
   ]
  },
  {
   "cell_type": "markdown",
   "id": "df8a43fe",
   "metadata": {},
   "source": [
    "#### Since the ids we inserted are completely the same, we confirm that the insertion operation is correct"
   ]
  },
  {
   "cell_type": "markdown",
   "id": "9db118ba",
   "metadata": {},
   "source": [
    "### Work with events.csv and see the similarities between it and cadastre-75-parcelles"
   ]
  },
  {
   "cell_type": "code",
   "execution_count": 68,
   "id": "b2bbdb4f",
   "metadata": {
    "scrolled": true
   },
   "outputs": [
    {
     "data": {
      "text/html": [
       "<div>\n",
       "<style scoped>\n",
       "    .dataframe tbody tr th:only-of-type {\n",
       "        vertical-align: middle;\n",
       "    }\n",
       "\n",
       "    .dataframe tbody tr th {\n",
       "        vertical-align: top;\n",
       "    }\n",
       "\n",
       "    .dataframe thead th {\n",
       "        text-align: right;\n",
       "    }\n",
       "</style>\n",
       "<table border=\"1\" class=\"dataframe\">\n",
       "  <thead>\n",
       "    <tr style=\"text-align: right;\">\n",
       "      <th></th>\n",
       "      <th>ts</th>\n",
       "      <th>lat</th>\n",
       "      <th>lon</th>\n",
       "      <th>type</th>\n",
       "    </tr>\n",
       "  </thead>\n",
       "  <tbody>\n",
       "    <tr>\n",
       "      <th>0</th>\n",
       "      <td>1656099559000</td>\n",
       "      <td>48.883085</td>\n",
       "      <td>2.350508</td>\n",
       "      <td>imp</td>\n",
       "    </tr>\n",
       "    <tr>\n",
       "      <th>1</th>\n",
       "      <td>1655907766000</td>\n",
       "      <td>48.865399</td>\n",
       "      <td>2.341031</td>\n",
       "      <td>imp</td>\n",
       "    </tr>\n",
       "    <tr>\n",
       "      <th>2</th>\n",
       "      <td>1653220775000</td>\n",
       "      <td>48.883085</td>\n",
       "      <td>2.350508</td>\n",
       "      <td>clic</td>\n",
       "    </tr>\n",
       "    <tr>\n",
       "      <th>3</th>\n",
       "      <td>1651867101000</td>\n",
       "      <td>48.870123</td>\n",
       "      <td>2.330727</td>\n",
       "      <td>imp</td>\n",
       "    </tr>\n",
       "    <tr>\n",
       "      <th>4</th>\n",
       "      <td>1653894764000</td>\n",
       "      <td>48.864086</td>\n",
       "      <td>2.343968</td>\n",
       "      <td>clic</td>\n",
       "    </tr>\n",
       "    <tr>\n",
       "      <th>5</th>\n",
       "      <td>1652074568000</td>\n",
       "      <td>48.870226</td>\n",
       "      <td>2.330835</td>\n",
       "      <td>imp</td>\n",
       "    </tr>\n",
       "    <tr>\n",
       "      <th>6</th>\n",
       "      <td>1656189723000</td>\n",
       "      <td>48.883545</td>\n",
       "      <td>2.350779</td>\n",
       "      <td>clic</td>\n",
       "    </tr>\n",
       "    <tr>\n",
       "      <th>7</th>\n",
       "      <td>1652091598000</td>\n",
       "      <td>48.865399</td>\n",
       "      <td>2.341031</td>\n",
       "      <td>clic</td>\n",
       "    </tr>\n",
       "    <tr>\n",
       "      <th>8</th>\n",
       "      <td>1651962777000</td>\n",
       "      <td>48.879449</td>\n",
       "      <td>2.283949</td>\n",
       "      <td>imp</td>\n",
       "    </tr>\n",
       "    <tr>\n",
       "      <th>9</th>\n",
       "      <td>1656343923000</td>\n",
       "      <td>48.864086</td>\n",
       "      <td>2.343968</td>\n",
       "      <td>imp</td>\n",
       "    </tr>\n",
       "    <tr>\n",
       "      <th>10</th>\n",
       "      <td>1652085964000</td>\n",
       "      <td>48.869955</td>\n",
       "      <td>2.329858</td>\n",
       "      <td>clic</td>\n",
       "    </tr>\n",
       "    <tr>\n",
       "      <th>11</th>\n",
       "      <td>1654053079000</td>\n",
       "      <td>48.870226</td>\n",
       "      <td>2.330835</td>\n",
       "      <td>clic</td>\n",
       "    </tr>\n",
       "    <tr>\n",
       "      <th>12</th>\n",
       "      <td>1654813181000</td>\n",
       "      <td>48.863863</td>\n",
       "      <td>2.344146</td>\n",
       "      <td>imp</td>\n",
       "    </tr>\n",
       "    <tr>\n",
       "      <th>13</th>\n",
       "      <td>1655949056000</td>\n",
       "      <td>48.883288</td>\n",
       "      <td>2.350286</td>\n",
       "      <td>imp</td>\n",
       "    </tr>\n",
       "    <tr>\n",
       "      <th>14</th>\n",
       "      <td>1655435082000</td>\n",
       "      <td>48.862170</td>\n",
       "      <td>2.346788</td>\n",
       "      <td>imp</td>\n",
       "    </tr>\n",
       "    <tr>\n",
       "      <th>15</th>\n",
       "      <td>1653402783000</td>\n",
       "      <td>48.870226</td>\n",
       "      <td>2.330835</td>\n",
       "      <td>clic</td>\n",
       "    </tr>\n",
       "    <tr>\n",
       "      <th>16</th>\n",
       "      <td>1654234696000</td>\n",
       "      <td>48.883545</td>\n",
       "      <td>2.350779</td>\n",
       "      <td>imp</td>\n",
       "    </tr>\n",
       "    <tr>\n",
       "      <th>17</th>\n",
       "      <td>1654726666000</td>\n",
       "      <td>48.870226</td>\n",
       "      <td>2.330835</td>\n",
       "      <td>imp</td>\n",
       "    </tr>\n",
       "    <tr>\n",
       "      <th>18</th>\n",
       "      <td>1655866504000</td>\n",
       "      <td>48.862170</td>\n",
       "      <td>2.346788</td>\n",
       "      <td>imp</td>\n",
       "    </tr>\n",
       "    <tr>\n",
       "      <th>19</th>\n",
       "      <td>1654818536000</td>\n",
       "      <td>48.883545</td>\n",
       "      <td>2.350779</td>\n",
       "      <td>imp</td>\n",
       "    </tr>\n",
       "    <tr>\n",
       "      <th>20</th>\n",
       "      <td>1654876851000</td>\n",
       "      <td>48.864086</td>\n",
       "      <td>2.343968</td>\n",
       "      <td>imp</td>\n",
       "    </tr>\n",
       "    <tr>\n",
       "      <th>21</th>\n",
       "      <td>1652577821000</td>\n",
       "      <td>48.865431</td>\n",
       "      <td>2.341487</td>\n",
       "      <td>imp</td>\n",
       "    </tr>\n",
       "    <tr>\n",
       "      <th>22</th>\n",
       "      <td>1655391256000</td>\n",
       "      <td>48.879449</td>\n",
       "      <td>2.283949</td>\n",
       "      <td>imp</td>\n",
       "    </tr>\n",
       "    <tr>\n",
       "      <th>23</th>\n",
       "      <td>1652113251000</td>\n",
       "      <td>48.883575</td>\n",
       "      <td>2.350358</td>\n",
       "      <td>imp</td>\n",
       "    </tr>\n",
       "    <tr>\n",
       "      <th>24</th>\n",
       "      <td>1651382335000</td>\n",
       "      <td>48.862170</td>\n",
       "      <td>2.346788</td>\n",
       "      <td>imp</td>\n",
       "    </tr>\n",
       "    <tr>\n",
       "      <th>25</th>\n",
       "      <td>1654968255000</td>\n",
       "      <td>48.870238</td>\n",
       "      <td>2.330553</td>\n",
       "      <td>clic</td>\n",
       "    </tr>\n",
       "    <tr>\n",
       "      <th>26</th>\n",
       "      <td>1652201741000</td>\n",
       "      <td>48.870238</td>\n",
       "      <td>2.330553</td>\n",
       "      <td>imp</td>\n",
       "    </tr>\n",
       "    <tr>\n",
       "      <th>27</th>\n",
       "      <td>1655830572000</td>\n",
       "      <td>48.865374</td>\n",
       "      <td>2.340988</td>\n",
       "      <td>clic</td>\n",
       "    </tr>\n",
       "    <tr>\n",
       "      <th>28</th>\n",
       "      <td>1654614474000</td>\n",
       "      <td>48.883575</td>\n",
       "      <td>2.350358</td>\n",
       "      <td>imp</td>\n",
       "    </tr>\n",
       "    <tr>\n",
       "      <th>29</th>\n",
       "      <td>1653044021000</td>\n",
       "      <td>48.870238</td>\n",
       "      <td>2.330553</td>\n",
       "      <td>imp</td>\n",
       "    </tr>\n",
       "    <tr>\n",
       "      <th>30</th>\n",
       "      <td>1655173610000</td>\n",
       "      <td>48.870123</td>\n",
       "      <td>2.330727</td>\n",
       "      <td>imp</td>\n",
       "    </tr>\n",
       "    <tr>\n",
       "      <th>31</th>\n",
       "      <td>1652105140000</td>\n",
       "      <td>48.883545</td>\n",
       "      <td>2.350779</td>\n",
       "      <td>clic</td>\n",
       "    </tr>\n",
       "    <tr>\n",
       "      <th>32</th>\n",
       "      <td>1652984644000</td>\n",
       "      <td>48.863863</td>\n",
       "      <td>2.344146</td>\n",
       "      <td>clic</td>\n",
       "    </tr>\n",
       "    <tr>\n",
       "      <th>33</th>\n",
       "      <td>1655348438000</td>\n",
       "      <td>48.864086</td>\n",
       "      <td>2.343968</td>\n",
       "      <td>clic</td>\n",
       "    </tr>\n",
       "    <tr>\n",
       "      <th>34</th>\n",
       "      <td>1655111043000</td>\n",
       "      <td>48.879262</td>\n",
       "      <td>2.283643</td>\n",
       "      <td>imp</td>\n",
       "    </tr>\n",
       "    <tr>\n",
       "      <th>35</th>\n",
       "      <td>1656307134000</td>\n",
       "      <td>48.865374</td>\n",
       "      <td>2.340988</td>\n",
       "      <td>clic</td>\n",
       "    </tr>\n",
       "    <tr>\n",
       "      <th>36</th>\n",
       "      <td>1652655521000</td>\n",
       "      <td>48.883288</td>\n",
       "      <td>2.350286</td>\n",
       "      <td>clic</td>\n",
       "    </tr>\n",
       "    <tr>\n",
       "      <th>37</th>\n",
       "      <td>1656189723000</td>\n",
       "      <td>48.883545</td>\n",
       "      <td>2.350779</td>\n",
       "      <td>clic</td>\n",
       "    </tr>\n",
       "    <tr>\n",
       "      <th>38</th>\n",
       "      <td>1652655521000</td>\n",
       "      <td>48.883288</td>\n",
       "      <td>2.350286</td>\n",
       "      <td>clic</td>\n",
       "    </tr>\n",
       "    <tr>\n",
       "      <th>39</th>\n",
       "      <td>1652113251000</td>\n",
       "      <td>48.883575</td>\n",
       "      <td>2.350358</td>\n",
       "      <td>imp</td>\n",
       "    </tr>\n",
       "  </tbody>\n",
       "</table>\n",
       "</div>"
      ],
      "text/plain": [
       "               ts        lat       lon  type\n",
       "0   1656099559000  48.883085  2.350508   imp\n",
       "1   1655907766000  48.865399  2.341031   imp\n",
       "2   1653220775000  48.883085  2.350508  clic\n",
       "3   1651867101000  48.870123  2.330727   imp\n",
       "4   1653894764000  48.864086  2.343968  clic\n",
       "5   1652074568000  48.870226  2.330835   imp\n",
       "6   1656189723000  48.883545  2.350779  clic\n",
       "7   1652091598000  48.865399  2.341031  clic\n",
       "8   1651962777000  48.879449  2.283949   imp\n",
       "9   1656343923000  48.864086  2.343968   imp\n",
       "10  1652085964000  48.869955  2.329858  clic\n",
       "11  1654053079000  48.870226  2.330835  clic\n",
       "12  1654813181000  48.863863  2.344146   imp\n",
       "13  1655949056000  48.883288  2.350286   imp\n",
       "14  1655435082000  48.862170  2.346788   imp\n",
       "15  1653402783000  48.870226  2.330835  clic\n",
       "16  1654234696000  48.883545  2.350779   imp\n",
       "17  1654726666000  48.870226  2.330835   imp\n",
       "18  1655866504000  48.862170  2.346788   imp\n",
       "19  1654818536000  48.883545  2.350779   imp\n",
       "20  1654876851000  48.864086  2.343968   imp\n",
       "21  1652577821000  48.865431  2.341487   imp\n",
       "22  1655391256000  48.879449  2.283949   imp\n",
       "23  1652113251000  48.883575  2.350358   imp\n",
       "24  1651382335000  48.862170  2.346788   imp\n",
       "25  1654968255000  48.870238  2.330553  clic\n",
       "26  1652201741000  48.870238  2.330553   imp\n",
       "27  1655830572000  48.865374  2.340988  clic\n",
       "28  1654614474000  48.883575  2.350358   imp\n",
       "29  1653044021000  48.870238  2.330553   imp\n",
       "30  1655173610000  48.870123  2.330727   imp\n",
       "31  1652105140000  48.883545  2.350779  clic\n",
       "32  1652984644000  48.863863  2.344146  clic\n",
       "33  1655348438000  48.864086  2.343968  clic\n",
       "34  1655111043000  48.879262  2.283643   imp\n",
       "35  1656307134000  48.865374  2.340988  clic\n",
       "36  1652655521000  48.883288  2.350286  clic\n",
       "37  1656189723000  48.883545  2.350779  clic\n",
       "38  1652655521000  48.883288  2.350286  clic\n",
       "39  1652113251000  48.883575  2.350358   imp"
      ]
     },
     "execution_count": 68,
     "metadata": {},
     "output_type": "execute_result"
    }
   ],
   "source": [
    "events = pd.read_csv(\"events.csv\", sep = ';')\n",
    "events"
   ]
  },
  {
   "cell_type": "markdown",
   "id": "8089ed5d",
   "metadata": {},
   "source": [
    "### Since only one coordinate of an event is provided, but multiple coordinates of a Polygon are provided, so we can just request the centroid of the polygons for a event to find its neareast parcelle.\n",
    "\n",
    "(https://postgis.net/docs/ST_Centroid.html)"
   ]
  },
  {
   "cell_type": "code",
   "execution_count": 69,
   "id": "d7931ba3",
   "metadata": {},
   "outputs": [],
   "source": [
    "sql_select_query3 = \"\"\"SELECT id, commune, ST_AsText(ST_centroid(geometry)) from cadastre\"\"\"\n",
    "cursor.execute(sql_select_query3)\n",
    "query3_list = cursor.fetchall()"
   ]
  },
  {
   "cell_type": "code",
   "execution_count": 70,
   "id": "473c27bd",
   "metadata": {},
   "outputs": [
    {
     "data": {
      "text/plain": [
       "('75101000AB0002', '75101', 'POINT(2.323909416857558 48.86382909607925)')"
      ]
     },
     "execution_count": 70,
     "metadata": {},
     "output_type": "execute_result"
    }
   ],
   "source": [
    "query3_list[0]"
   ]
  },
  {
   "cell_type": "code",
   "execution_count": 71,
   "id": "8bd844bd",
   "metadata": {},
   "outputs": [],
   "source": [
    "query3_result = []\n",
    "for i in range(len(query3_list)):\n",
    "    temp = query3_list[i][2][6:-1].split(' ')\n",
    "    query3_result.append((query3_list[i][0], query3_list[i][1], float(temp[0]), float(temp[1])))"
   ]
  },
  {
   "cell_type": "code",
   "execution_count": 72,
   "id": "ea71669e",
   "metadata": {},
   "outputs": [
    {
     "data": {
      "text/plain": [
       "('75101000AB0002', '75101', 2.323909416857558, 48.86382909607925)"
      ]
     },
     "execution_count": 72,
     "metadata": {},
     "output_type": "execute_result"
    }
   ],
   "source": [
    "query3_result[0]"
   ]
  },
  {
   "cell_type": "markdown",
   "id": "b00b70ec",
   "metadata": {},
   "source": [
    "### JSON RETURN FORMAT WANTED:\n",
    "\n",
    "{“id_parcelle1”: {“imp”: \\<NB_EVENT\\>, “clic”: \\<NB_EVENT\\>}, “id_parcelle2”:\n",
    "{“imp”: \\<NB_EVENT\\>, “clic”: \\<NB_EVENT\\>}}"
   ]
  },
  {
   "cell_type": "code",
   "execution_count": 73,
   "id": "23abdd59",
   "metadata": {},
   "outputs": [],
   "source": [
    "result_json = defaultdict(dict)"
   ]
  },
  {
   "cell_type": "code",
   "execution_count": 74,
   "id": "c30987d1",
   "metadata": {
    "scrolled": true
   },
   "outputs": [
    {
     "data": {
      "text/html": [
       "<div>\n",
       "<style scoped>\n",
       "    .dataframe tbody tr th:only-of-type {\n",
       "        vertical-align: middle;\n",
       "    }\n",
       "\n",
       "    .dataframe tbody tr th {\n",
       "        vertical-align: top;\n",
       "    }\n",
       "\n",
       "    .dataframe thead th {\n",
       "        text-align: right;\n",
       "    }\n",
       "</style>\n",
       "<table border=\"1\" class=\"dataframe\">\n",
       "  <thead>\n",
       "    <tr style=\"text-align: right;\">\n",
       "      <th></th>\n",
       "      <th>ts</th>\n",
       "      <th>lat</th>\n",
       "      <th>lon</th>\n",
       "      <th>type</th>\n",
       "    </tr>\n",
       "  </thead>\n",
       "  <tbody>\n",
       "    <tr>\n",
       "      <th>0</th>\n",
       "      <td>1656099559000</td>\n",
       "      <td>48.883085</td>\n",
       "      <td>2.350508</td>\n",
       "      <td>imp</td>\n",
       "    </tr>\n",
       "    <tr>\n",
       "      <th>1</th>\n",
       "      <td>1655907766000</td>\n",
       "      <td>48.865399</td>\n",
       "      <td>2.341031</td>\n",
       "      <td>imp</td>\n",
       "    </tr>\n",
       "    <tr>\n",
       "      <th>2</th>\n",
       "      <td>1653220775000</td>\n",
       "      <td>48.883085</td>\n",
       "      <td>2.350508</td>\n",
       "      <td>clic</td>\n",
       "    </tr>\n",
       "    <tr>\n",
       "      <th>3</th>\n",
       "      <td>1651867101000</td>\n",
       "      <td>48.870123</td>\n",
       "      <td>2.330727</td>\n",
       "      <td>imp</td>\n",
       "    </tr>\n",
       "    <tr>\n",
       "      <th>4</th>\n",
       "      <td>1653894764000</td>\n",
       "      <td>48.864086</td>\n",
       "      <td>2.343968</td>\n",
       "      <td>clic</td>\n",
       "    </tr>\n",
       "    <tr>\n",
       "      <th>5</th>\n",
       "      <td>1652074568000</td>\n",
       "      <td>48.870226</td>\n",
       "      <td>2.330835</td>\n",
       "      <td>imp</td>\n",
       "    </tr>\n",
       "    <tr>\n",
       "      <th>6</th>\n",
       "      <td>1656189723000</td>\n",
       "      <td>48.883545</td>\n",
       "      <td>2.350779</td>\n",
       "      <td>clic</td>\n",
       "    </tr>\n",
       "    <tr>\n",
       "      <th>7</th>\n",
       "      <td>1652091598000</td>\n",
       "      <td>48.865399</td>\n",
       "      <td>2.341031</td>\n",
       "      <td>clic</td>\n",
       "    </tr>\n",
       "    <tr>\n",
       "      <th>8</th>\n",
       "      <td>1651962777000</td>\n",
       "      <td>48.879449</td>\n",
       "      <td>2.283949</td>\n",
       "      <td>imp</td>\n",
       "    </tr>\n",
       "    <tr>\n",
       "      <th>9</th>\n",
       "      <td>1656343923000</td>\n",
       "      <td>48.864086</td>\n",
       "      <td>2.343968</td>\n",
       "      <td>imp</td>\n",
       "    </tr>\n",
       "    <tr>\n",
       "      <th>10</th>\n",
       "      <td>1652085964000</td>\n",
       "      <td>48.869955</td>\n",
       "      <td>2.329858</td>\n",
       "      <td>clic</td>\n",
       "    </tr>\n",
       "    <tr>\n",
       "      <th>11</th>\n",
       "      <td>1654053079000</td>\n",
       "      <td>48.870226</td>\n",
       "      <td>2.330835</td>\n",
       "      <td>clic</td>\n",
       "    </tr>\n",
       "    <tr>\n",
       "      <th>12</th>\n",
       "      <td>1654813181000</td>\n",
       "      <td>48.863863</td>\n",
       "      <td>2.344146</td>\n",
       "      <td>imp</td>\n",
       "    </tr>\n",
       "    <tr>\n",
       "      <th>13</th>\n",
       "      <td>1655949056000</td>\n",
       "      <td>48.883288</td>\n",
       "      <td>2.350286</td>\n",
       "      <td>imp</td>\n",
       "    </tr>\n",
       "    <tr>\n",
       "      <th>14</th>\n",
       "      <td>1655435082000</td>\n",
       "      <td>48.862170</td>\n",
       "      <td>2.346788</td>\n",
       "      <td>imp</td>\n",
       "    </tr>\n",
       "    <tr>\n",
       "      <th>15</th>\n",
       "      <td>1653402783000</td>\n",
       "      <td>48.870226</td>\n",
       "      <td>2.330835</td>\n",
       "      <td>clic</td>\n",
       "    </tr>\n",
       "    <tr>\n",
       "      <th>16</th>\n",
       "      <td>1654234696000</td>\n",
       "      <td>48.883545</td>\n",
       "      <td>2.350779</td>\n",
       "      <td>imp</td>\n",
       "    </tr>\n",
       "    <tr>\n",
       "      <th>17</th>\n",
       "      <td>1654726666000</td>\n",
       "      <td>48.870226</td>\n",
       "      <td>2.330835</td>\n",
       "      <td>imp</td>\n",
       "    </tr>\n",
       "    <tr>\n",
       "      <th>18</th>\n",
       "      <td>1655866504000</td>\n",
       "      <td>48.862170</td>\n",
       "      <td>2.346788</td>\n",
       "      <td>imp</td>\n",
       "    </tr>\n",
       "    <tr>\n",
       "      <th>19</th>\n",
       "      <td>1654818536000</td>\n",
       "      <td>48.883545</td>\n",
       "      <td>2.350779</td>\n",
       "      <td>imp</td>\n",
       "    </tr>\n",
       "    <tr>\n",
       "      <th>20</th>\n",
       "      <td>1654876851000</td>\n",
       "      <td>48.864086</td>\n",
       "      <td>2.343968</td>\n",
       "      <td>imp</td>\n",
       "    </tr>\n",
       "    <tr>\n",
       "      <th>21</th>\n",
       "      <td>1652577821000</td>\n",
       "      <td>48.865431</td>\n",
       "      <td>2.341487</td>\n",
       "      <td>imp</td>\n",
       "    </tr>\n",
       "    <tr>\n",
       "      <th>22</th>\n",
       "      <td>1655391256000</td>\n",
       "      <td>48.879449</td>\n",
       "      <td>2.283949</td>\n",
       "      <td>imp</td>\n",
       "    </tr>\n",
       "    <tr>\n",
       "      <th>23</th>\n",
       "      <td>1652113251000</td>\n",
       "      <td>48.883575</td>\n",
       "      <td>2.350358</td>\n",
       "      <td>imp</td>\n",
       "    </tr>\n",
       "    <tr>\n",
       "      <th>24</th>\n",
       "      <td>1651382335000</td>\n",
       "      <td>48.862170</td>\n",
       "      <td>2.346788</td>\n",
       "      <td>imp</td>\n",
       "    </tr>\n",
       "    <tr>\n",
       "      <th>25</th>\n",
       "      <td>1654968255000</td>\n",
       "      <td>48.870238</td>\n",
       "      <td>2.330553</td>\n",
       "      <td>clic</td>\n",
       "    </tr>\n",
       "    <tr>\n",
       "      <th>26</th>\n",
       "      <td>1652201741000</td>\n",
       "      <td>48.870238</td>\n",
       "      <td>2.330553</td>\n",
       "      <td>imp</td>\n",
       "    </tr>\n",
       "    <tr>\n",
       "      <th>27</th>\n",
       "      <td>1655830572000</td>\n",
       "      <td>48.865374</td>\n",
       "      <td>2.340988</td>\n",
       "      <td>clic</td>\n",
       "    </tr>\n",
       "    <tr>\n",
       "      <th>28</th>\n",
       "      <td>1654614474000</td>\n",
       "      <td>48.883575</td>\n",
       "      <td>2.350358</td>\n",
       "      <td>imp</td>\n",
       "    </tr>\n",
       "    <tr>\n",
       "      <th>29</th>\n",
       "      <td>1653044021000</td>\n",
       "      <td>48.870238</td>\n",
       "      <td>2.330553</td>\n",
       "      <td>imp</td>\n",
       "    </tr>\n",
       "    <tr>\n",
       "      <th>30</th>\n",
       "      <td>1655173610000</td>\n",
       "      <td>48.870123</td>\n",
       "      <td>2.330727</td>\n",
       "      <td>imp</td>\n",
       "    </tr>\n",
       "    <tr>\n",
       "      <th>31</th>\n",
       "      <td>1652105140000</td>\n",
       "      <td>48.883545</td>\n",
       "      <td>2.350779</td>\n",
       "      <td>clic</td>\n",
       "    </tr>\n",
       "    <tr>\n",
       "      <th>32</th>\n",
       "      <td>1652984644000</td>\n",
       "      <td>48.863863</td>\n",
       "      <td>2.344146</td>\n",
       "      <td>clic</td>\n",
       "    </tr>\n",
       "    <tr>\n",
       "      <th>33</th>\n",
       "      <td>1655348438000</td>\n",
       "      <td>48.864086</td>\n",
       "      <td>2.343968</td>\n",
       "      <td>clic</td>\n",
       "    </tr>\n",
       "    <tr>\n",
       "      <th>34</th>\n",
       "      <td>1655111043000</td>\n",
       "      <td>48.879262</td>\n",
       "      <td>2.283643</td>\n",
       "      <td>imp</td>\n",
       "    </tr>\n",
       "    <tr>\n",
       "      <th>35</th>\n",
       "      <td>1656307134000</td>\n",
       "      <td>48.865374</td>\n",
       "      <td>2.340988</td>\n",
       "      <td>clic</td>\n",
       "    </tr>\n",
       "    <tr>\n",
       "      <th>36</th>\n",
       "      <td>1652655521000</td>\n",
       "      <td>48.883288</td>\n",
       "      <td>2.350286</td>\n",
       "      <td>clic</td>\n",
       "    </tr>\n",
       "    <tr>\n",
       "      <th>37</th>\n",
       "      <td>1656189723000</td>\n",
       "      <td>48.883545</td>\n",
       "      <td>2.350779</td>\n",
       "      <td>clic</td>\n",
       "    </tr>\n",
       "    <tr>\n",
       "      <th>38</th>\n",
       "      <td>1652655521000</td>\n",
       "      <td>48.883288</td>\n",
       "      <td>2.350286</td>\n",
       "      <td>clic</td>\n",
       "    </tr>\n",
       "    <tr>\n",
       "      <th>39</th>\n",
       "      <td>1652113251000</td>\n",
       "      <td>48.883575</td>\n",
       "      <td>2.350358</td>\n",
       "      <td>imp</td>\n",
       "    </tr>\n",
       "  </tbody>\n",
       "</table>\n",
       "</div>"
      ],
      "text/plain": [
       "               ts        lat       lon  type\n",
       "0   1656099559000  48.883085  2.350508   imp\n",
       "1   1655907766000  48.865399  2.341031   imp\n",
       "2   1653220775000  48.883085  2.350508  clic\n",
       "3   1651867101000  48.870123  2.330727   imp\n",
       "4   1653894764000  48.864086  2.343968  clic\n",
       "5   1652074568000  48.870226  2.330835   imp\n",
       "6   1656189723000  48.883545  2.350779  clic\n",
       "7   1652091598000  48.865399  2.341031  clic\n",
       "8   1651962777000  48.879449  2.283949   imp\n",
       "9   1656343923000  48.864086  2.343968   imp\n",
       "10  1652085964000  48.869955  2.329858  clic\n",
       "11  1654053079000  48.870226  2.330835  clic\n",
       "12  1654813181000  48.863863  2.344146   imp\n",
       "13  1655949056000  48.883288  2.350286   imp\n",
       "14  1655435082000  48.862170  2.346788   imp\n",
       "15  1653402783000  48.870226  2.330835  clic\n",
       "16  1654234696000  48.883545  2.350779   imp\n",
       "17  1654726666000  48.870226  2.330835   imp\n",
       "18  1655866504000  48.862170  2.346788   imp\n",
       "19  1654818536000  48.883545  2.350779   imp\n",
       "20  1654876851000  48.864086  2.343968   imp\n",
       "21  1652577821000  48.865431  2.341487   imp\n",
       "22  1655391256000  48.879449  2.283949   imp\n",
       "23  1652113251000  48.883575  2.350358   imp\n",
       "24  1651382335000  48.862170  2.346788   imp\n",
       "25  1654968255000  48.870238  2.330553  clic\n",
       "26  1652201741000  48.870238  2.330553   imp\n",
       "27  1655830572000  48.865374  2.340988  clic\n",
       "28  1654614474000  48.883575  2.350358   imp\n",
       "29  1653044021000  48.870238  2.330553   imp\n",
       "30  1655173610000  48.870123  2.330727   imp\n",
       "31  1652105140000  48.883545  2.350779  clic\n",
       "32  1652984644000  48.863863  2.344146  clic\n",
       "33  1655348438000  48.864086  2.343968  clic\n",
       "34  1655111043000  48.879262  2.283643   imp\n",
       "35  1656307134000  48.865374  2.340988  clic\n",
       "36  1652655521000  48.883288  2.350286  clic\n",
       "37  1656189723000  48.883545  2.350779  clic\n",
       "38  1652655521000  48.883288  2.350286  clic\n",
       "39  1652113251000  48.883575  2.350358   imp"
      ]
     },
     "execution_count": 74,
     "metadata": {},
     "output_type": "execute_result"
    }
   ],
   "source": [
    "events"
   ]
  },
  {
   "cell_type": "code",
   "execution_count": 75,
   "id": "40b5faaa",
   "metadata": {},
   "outputs": [],
   "source": [
    "for i in range(len(events)):\n",
    "    x, y, type_ = events[\"lon\"][i], events[\"lat\"][i], events[\"type\"][i]\n",
    "    distance_rank = [None]*len(query3_result)\n",
    "    for j in range(len(query3_result)):\n",
    "        dist = (query3_result[i][2]-x)*(query3_result[i][2]-x)+(query3_result[i][3]-y)*(query3_result[i][3]-y)\n",
    "        distance_rank[j] = (query3_result[i][0],dist)\n",
    "    #return the id of the parcelle and its associated distance\n",
    "    associated_parameters = sorted(distance_rank, key = lambda x:x[1], reverse = False)[0]\n",
    "    associated_id = associated_parameters[0]\n",
    "    if type_ not in result_json[associated_id]:\n",
    "        result_json[associated_id][type_] = 1\n",
    "    else:\n",
    "        result_json[associated_id][type_] += 1"
   ]
  },
  {
   "cell_type": "code",
   "execution_count": 76,
   "id": "d35da160",
   "metadata": {},
   "outputs": [
    {
     "data": {
      "text/plain": [
       "'75113000AA0002'"
      ]
     },
     "execution_count": 76,
     "metadata": {},
     "output_type": "execute_result"
    }
   ],
   "source": [
    "associated_id"
   ]
  },
  {
   "cell_type": "code",
   "execution_count": 77,
   "id": "3a93fa70",
   "metadata": {
    "scrolled": true
   },
   "outputs": [
    {
     "data": {
      "text/plain": [
       "defaultdict(dict,\n",
       "            {'75101000AB0002': {'imp': 1},\n",
       "             '75101000AB0001': {'imp': 1},\n",
       "             '75101000AC0002': {'clic': 1},\n",
       "             '75102000AB0027': {'imp': 1},\n",
       "             '75102000AB0029': {'clic': 1},\n",
       "             '75101000AC0001': {'imp': 1},\n",
       "             '75101000AD0001': {'clic': 1},\n",
       "             '75102000AB0080': {'clic': 1},\n",
       "             '75102000AB0068': {'imp': 1},\n",
       "             '75102000AB0048': {'imp': 1},\n",
       "             '75102000AB0046': {'clic': 1},\n",
       "             '75102000AB0053': {'clic': 1},\n",
       "             '75102000AB0035': {'imp': 1},\n",
       "             '75102000AB0051': {'imp': 1},\n",
       "             '75102000AB0050': {'imp': 1},\n",
       "             '75102000AB0005': {'clic': 1},\n",
       "             '75102000AB0013': {'imp': 1},\n",
       "             '75102000AB0059': {'imp': 1},\n",
       "             '75102000AB0079': {'imp': 1},\n",
       "             '75102000AB0074': {'imp': 1},\n",
       "             '75102000AB0031': {'imp': 1},\n",
       "             '75105000AB0124': {'imp': 1},\n",
       "             '75107000AB0020': {'imp': 1},\n",
       "             '75104000AB0064': {'imp': 1},\n",
       "             '75108000AB0005': {'imp': 1},\n",
       "             '75106000AB0001': {'clic': 1},\n",
       "             '75110000AA0019': {'imp': 1},\n",
       "             '75103000AB0100': {'clic': 1},\n",
       "             '75109000AA0001': {'imp': 1},\n",
       "             '75112000AA0036': {'imp': 1},\n",
       "             '75101000AK0032': {'imp': 1},\n",
       "             '75111000AA0063': {'clic': 1},\n",
       "             '75114000AB0016': {'clic': 1},\n",
       "             '75115000AB0029': {'clic': 1},\n",
       "             '75116000AA0004': {'imp': 1},\n",
       "             '75118000AA0002': {'clic': 1},\n",
       "             '75117000AB0005': {'clic': 1},\n",
       "             '75101000AD0002': {'clic': 1},\n",
       "             '75119000AA0146': {'clic': 1},\n",
       "             '75113000AA0002': {'imp': 1}})"
      ]
     },
     "execution_count": 77,
     "metadata": {},
     "output_type": "execute_result"
    }
   ],
   "source": [
    "result_json"
   ]
  },
  {
   "cell_type": "code",
   "execution_count": 78,
   "id": "3c5d5d87",
   "metadata": {},
   "outputs": [],
   "source": [
    "# https://www.geeksforgeeks.org/how-to-convert-python-dictionary-to-json/\n",
    "# Data to be written\n",
    "with open(\"result1.json\", \"w\") as outfile:\n",
    "    json.dump(result_json, outfile)"
   ]
  },
  {
   "cell_type": "markdown",
   "id": "ed1ca3b5",
   "metadata": {},
   "source": [
    "### Actually, we can determine more rigourously whether a point is in the polygon with algorithms showed below. But unfortunately, we need to have the number of vertices of each polygon, which is missing:\n",
    "\n",
    "https://www.eecs.umich.edu/courses/eecs380/HANDOUTS/PROJ2/InsidePoly.html"
   ]
  },
  {
   "cell_type": "code",
   "execution_count": null,
   "id": "819a8ef0",
   "metadata": {},
   "outputs": [],
   "source": [
    "# The algorithms below won't work because npol is the length of points provided but not the number of edges of polygons\n",
    "def pnpoly(points, x:float, y:float)->int:\n",
    "    \"\"\"\n",
    "    return 1 for interior points and 0 for exterior points\n",
    "    \"\"\"\n",
    "    npol = len(points)\n",
    "    i, j, c = 0, npol-1, 0\n",
    "    while i<npol:\n",
    "        temp = (points[j][0] - points[i][0]) * (y - points[i][1]) / ((points[j][1] - points[i][1]) + points[i][0])\n",
    "        if (((points[i][1] <= y) and (y < points[j][1])) or ((points[j][1] <= y) and (y < points[i][1]))) and (x < temp):\n",
    "            c = 1-c\n",
    "            print(\"swaped\")\n",
    "        j = i\n",
    "        i += 1\n",
    "    return c\n",
    "    \"\"\"\n",
    "    xp: List[float], yp: List[float],\n",
    "    \n",
    "    npol = len(xp)\n",
    "    i, j, c = 0, npol-1, 0\n",
    "    while i<npol:\n",
    "        temp = (xp[j] - xp[i]) * (y - yp[i]) / ((yp[j] - yp[i]) + xp[i])\n",
    "        if (((yp[i] <= y) and (y < yp[j])) or ((yp[j] <= y) and (y < yp[i]))) and (x < temp):\n",
    "            c = 1-c\n",
    "        j = i\n",
    "        i += 1\n",
    "    return c\n",
    "    \"\"\""
   ]
  },
  {
   "cell_type": "code",
   "execution_count": null,
   "id": "d49166ad",
   "metadata": {},
   "outputs": [],
   "source": [
    "events_dict = defaultdict(list)"
   ]
  },
  {
   "cell_type": "code",
   "execution_count": null,
   "id": "1a4cd77f",
   "metadata": {
    "scrolled": true
   },
   "outputs": [],
   "source": [
    "lats = events[\"lat\"].to_numpy()\n",
    "lons = events[\"lon\"].to_numpy()"
   ]
  },
  {
   "cell_type": "code",
   "execution_count": null,
   "id": "83f8399a",
   "metadata": {},
   "outputs": [],
   "source": [
    "for i in range(len(events)):\n",
    "    x,y = lons[i], lats[i]\n",
    "    for j in range(len(data[\"features\"])):\n",
    "        temp = data[\"features\"][j]['geometry']['coordinates'][0]\n",
    "        if len(data[\"features\"][j]['geometry']['coordinates'])==2:\n",
    "            temp += data[\"features\"][j]['geometry']['coordinates'][1]\n",
    "        c = pnpoly(temp, x, y)\n",
    "        if c==1:\n",
    "            events_dict[i].append(j)"
   ]
  },
  {
   "cell_type": "code",
   "execution_count": null,
   "id": "c023c921",
   "metadata": {},
   "outputs": [],
   "source": [
    "events_dict"
   ]
  },
  {
   "cell_type": "code",
   "execution_count": 79,
   "id": "4b3356aa",
   "metadata": {},
   "outputs": [],
   "source": [
    "# Closing the json data file\n",
    "f.close()"
   ]
  },
  {
   "cell_type": "code",
   "execution_count": 80,
   "id": "35eda103",
   "metadata": {},
   "outputs": [],
   "source": [
    "if connection:\n",
    "    connection.commit()\n",
    "    count = cursor.rowcount\n",
    "    #print(count, \"Record inserted successfully into cadastre table\")"
   ]
  }
 ],
 "metadata": {
  "kernelspec": {
   "display_name": "Python 3 (ipykernel)",
   "language": "python",
   "name": "python3"
  },
  "language_info": {
   "codemirror_mode": {
    "name": "ipython",
    "version": 3
   },
   "file_extension": ".py",
   "mimetype": "text/x-python",
   "name": "python",
   "nbconvert_exporter": "python",
   "pygments_lexer": "ipython3",
   "version": "3.8.3"
  }
 },
 "nbformat": 4,
 "nbformat_minor": 5
}
